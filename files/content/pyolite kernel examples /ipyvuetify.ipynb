{
 "cells": [
  {
   "cell_type": "markdown",
   "metadata": {},
   "source": [
    "# Ipyvuetify demo\n",
    "See the [documentation](https://ipyvuetify.readthedocs.io/en/latest/index.html)"
   ]
  },
  {
   "cell_type": "code",
   "execution_count": 1,
   "metadata": {},
   "outputs": [
    {
     "ename": "ModuleNotFoundError",
     "evalue": "No module named 'micropip'",
     "output_type": "error",
     "traceback": [
      "\u001b[0;31m---------------------------------------------------------------------------\u001b[0m",
      "\u001b[0;31mModuleNotFoundError\u001b[0m                       Traceback (most recent call last)",
      "\u001b[0;32m/var/folders/44/8nnf_10n2dvb6hcqyl5bwdz00000gp/T/ipykernel_60334/3492137614.py\u001b[0m in \u001b[0;36m<module>\u001b[0;34m\u001b[0m\n\u001b[0;32m----> 1\u001b[0;31m \u001b[0;32mimport\u001b[0m \u001b[0mmicropip\u001b[0m\u001b[0;34m\u001b[0m\u001b[0;34m\u001b[0m\u001b[0m\n\u001b[0m\u001b[1;32m      2\u001b[0m \u001b[0;32mawait\u001b[0m \u001b[0mmicropip\u001b[0m\u001b[0;34m.\u001b[0m\u001b[0minstall\u001b[0m\u001b[0;34m(\u001b[0m\u001b[0;34m[\u001b[0m\u001b[0;34m'ipyvuetify'\u001b[0m\u001b[0;34m]\u001b[0m\u001b[0;34m)\u001b[0m\u001b[0;34m\u001b[0m\u001b[0;34m\u001b[0m\u001b[0m\n",
      "\u001b[0;31mModuleNotFoundError\u001b[0m: No module named 'micropip'"
     ]
    }
   ],
   "source": [
    "import micropip\n",
    "await micropip.install(['ipyvuetify'])\n"
   ]
  },
  {
   "cell_type": "code",
   "execution_count": 2,
   "metadata": {},
   "outputs": [],
   "source": [
    "import ipywidgets\n",
    "import ipyvuetify as v\n",
    "from threading import Timer\n",
    "\n",
    "lorum_ipsum = 'Lorem ipsum dolor sit amet, consectetur adipiscing elit, sed do eiusmod tempor incididunt ut labore et dolore magna aliqua. Ut enim ad minim veniam, quis nostrud exercitation ullamco laboris nisi ut aliquip ex ea commodo consequat. Duis aute irure dolor in reprehenderit in voluptate velit esse cillum dolore eu fugiat nulla pariatur. Excepteur sint occaecat cupidatat non proident, sunt in culpa qui officia deserunt mollit anim id est laborum.'"
   ]
  },
  {
   "cell_type": "code",
   "execution_count": 3,
   "metadata": {},
   "outputs": [
    {
     "data": {
      "application/vnd.jupyter.widget-view+json": {
       "model_id": "b3aebd58e3914bf4b140587b6e8e1e1d",
       "version_major": 2,
       "version_minor": 0
      },
      "text/plain": [
       "Layout(children=[Btn(children=['button'])], class_='pa-2')"
      ]
     },
     "metadata": {},
     "output_type": "display_data"
    }
   ],
   "source": [
    "count = 0\n",
    "\n",
    "def on_click(widget, event, data):\n",
    "    global count\n",
    "    count += 1\n",
    "    button1.children=['button ' + str(count)]\n",
    "\n",
    "button1 = v.Btn(children=['button'])\n",
    "button1.on_event('click', on_click)\n",
    "\n",
    "v.Layout(class_='pa-2', children=[button1])"
   ]
  },
  {
   "cell_type": "markdown",
   "metadata": {},
   "source": [
    "## First template"
   ]
  },
  {
   "cell_type": "code",
   "execution_count": 4,
   "metadata": {},
   "outputs": [
    {
     "data": {
      "application/vnd.jupyter.widget-view+json": {
       "model_id": "b27934378f074673ae91f2c57e4329df",
       "version_major": 2,
       "version_minor": 0
      },
      "text/plain": [
       "FruitSelector(fruits=['Apple', 'Pear'], template='\\n        <template>\\n            <div>\\n                <v-…"
      ]
     },
     "metadata": {},
     "output_type": "display_data"
    }
   ],
   "source": [
    "import ipyvuetify as v\n",
    "import traitlets\n",
    "\n",
    "class FruitSelector(v.VuetifyTemplate):\n",
    "    fruits = traitlets.List(traitlets.Unicode(), default_value=['Apple', 'Pear']).tag(sync=True)\n",
    "    selected = traitlets.Unicode(default_value='', allow_none=True).tag(sync=True)\n",
    "    @traitlets.default('template')\n",
    "    def _template(self):\n",
    "        return '''\n",
    "        <template>\n",
    "            <div>\n",
    "                <v-select label=\"Fruits\" :items=\"fruits\" v-model=\"selected\"/>\n",
    "            </div>\n",
    "        </template>\n",
    "        '''\n",
    "fruits = FruitSelector()\n",
    "fruits"
   ]
  },
  {
   "cell_type": "code",
   "execution_count": 5,
   "metadata": {},
   "outputs": [
    {
     "data": {
      "text/plain": [
       "'Apple'"
      ]
     },
     "execution_count": 5,
     "metadata": {},
     "output_type": "execute_result"
    }
   ],
   "source": [
    "fruits.selected"
   ]
  },
  {
   "cell_type": "markdown",
   "metadata": {},
   "source": [
    "## Advanced template"
   ]
  },
  {
   "cell_type": "code",
   "execution_count": 11,
   "metadata": {},
   "outputs": [
    {
     "data": {
      "application/vnd.jupyter.widget-view+json": {
       "model_id": "29b0618dc3b3416880b3926e6252ebc5",
       "version_major": 2,
       "version_minor": 0
      },
      "text/plain": [
       "FruitSelector(fruits=['Banana', 'Pear', 'Apple'], template='\\n            <template>\\n                <div>\\n …"
      ]
     },
     "metadata": {},
     "output_type": "display_data"
    }
   ],
   "source": [
    "import ipyvuetify as v\n",
    "import traitlets\n",
    "\n",
    "\n",
    "class FruitSelector(v.VuetifyTemplate):\n",
    "    fruits = traitlets.List(traitlets.Unicode(), default_value=['Apple', 'Pear']).tag(sync=True)\n",
    "    selected = traitlets.Unicode(default_value='', allow_none=True).tag(sync=True)\n",
    "    @traitlets.default('template')\n",
    "    def _template(self):\n",
    "        return '''\n",
    "            <template>\n",
    "                <div>\n",
    "                    <v-select label=\"Fruits\" :items=\"fruits\" v-model=\"selected\"/>\n",
    "                    Available fruits\n",
    "                    <table class=\"fruit-selector\">\n",
    "                        <tr v-for=\"(fruit, index) in fruits\" :key=\"index\" @click=\"selected = fruit\">\n",
    "                            <td>{{index}}</td>\n",
    "                            <td>{{fruit}}</td>\n",
    "                            <td>{{fruit == selected ? \"selected\" : \"\"}}</td>\n",
    "                        </tr>\n",
    "                    </table>\n",
    "                </div>\n",
    "            </template>\n",
    "            <style id=\"fruit-selector-style\">\n",
    "                .fruit-selector td {\n",
    "                    border: 1px solid black;\n",
    "                }\n",
    "\n",
    "            </style>\n",
    "\n",
    "        '''\n",
    "fruits = FruitSelector(fruits=['Banana', 'Pear', 'Apple'])\n",
    "fruits"
   ]
  },
  {
   "cell_type": "markdown",
   "metadata": {},
   "source": [
    "## Template in vue files"
   ]
  },
  {
   "cell_type": "markdown",
   "metadata": {},
   "source": [
    "Currenly local files can not be easily accessed in the kernel in `jupyterlite`. See this [issue](https://github.com/jupyterlite/jupyterlite/issues/119).\n",
    "Here is a work around."
   ]
  },
  {
   "cell_type": "code",
   "execution_count": null,
   "metadata": {},
   "outputs": [],
   "source": [
    "from js import fetch\n",
    "\n",
    "async def _download_file(filename):\n",
    "    URL = f\"https://raw.githubusercontent.com/seidlr/jupyterlite-demo/main/content/pyolite%20kernel%20examples%20/{filename}\"\n",
    "    res = await fetch(URL)\n",
    "    text = await res.text()\n",
    "\n",
    "    with open(filename, 'w') as f:\n",
    "        f.write(text)\n",
    "            \n",
    "files = ['fruit-selector.vue','card.vue']     \n",
    "for filename in files:\n",
    "    print(f'Download {filename} from GH')\n",
    "    res = await _download_file(filename)\n"
   ]
  },
  {
   "cell_type": "code",
   "execution_count": 17,
   "metadata": {},
   "outputs": [
    {
     "data": {
      "application/vnd.jupyter.widget-view+json": {
       "model_id": "11a100554dc24c1c89ca6d5ac768c1ec",
       "version_major": 2,
       "version_minor": 0
      },
      "text/plain": [
       "FruitSelector(events=['add_fruit_python'], fruits=['Banana', 'Pear', 'Apple'], template=Template(template='<te…"
      ]
     },
     "metadata": {},
     "output_type": "display_data"
    }
   ],
   "source": [
    "import ipyvuetify as v\n",
    "import traitlets\n",
    "import random\n",
    "\n",
    "\n",
    "other_fruits = ['Pineapple', 'Kiwi', 'Cherry']\n",
    "\n",
    "\n",
    "class FruitSelector(v.VuetifyTemplate):\n",
    "    template_file = 'fruit-selector.vue'\n",
    "\n",
    "    fruits = traitlets.List(traitlets.Unicode(), default_value=['Apple', 'Pear']).tag(sync=True)\n",
    "    selected = traitlets.Unicode(default_value='', allow_none=True).tag(sync=True)\n",
    "    can_add_from_python = traitlets.Bool(default_value=True).tag(sync=True)\n",
    "\n",
    "    def vue_add_fruit_python(self, data=None):\n",
    "        if other_fruits:\n",
    "            fruit = other_fruits.pop()\n",
    "            self.fruits = self.fruits + [fruit]\n",
    "        if not other_fruits:\n",
    "            self.can_add_from_python = False\n",
    "            \n",
    "fruits = FruitSelector(fruits=['Banana', 'Pear', 'Apple'])\n",
    "fruits"
   ]
  },
  {
   "cell_type": "code",
   "execution_count": 13,
   "metadata": {},
   "outputs": [
    {
     "data": {
      "application/vnd.jupyter.widget-view+json": {
       "model_id": "426ce10dcd6546e4b3e07414504ac840",
       "version_major": 2,
       "version_minor": 0
      },
      "text/plain": [
       "CardExample(template=Template(template='<template>\\n    <v-card\\n      :loading=\"loading\"\\n      class=\"mx-aut…"
      ]
     },
     "metadata": {},
     "output_type": "display_data"
    }
   ],
   "source": [
    "import ipyvuetify as v\n",
    "import traitlets\n",
    "import random\n",
    "\n",
    "\n",
    "class CardExample(v.VuetifyTemplate):\n",
    "    template_file = 'card.vue'\n",
    "\n",
    "    loading = traitlets.Bool(default_value=False).tag(sync=True)\n",
    "    selection = traitlets.Int(default_value=1, allow_none=True).tag(sync=True)\n",
    "            \n",
    "card = CardExample()\n",
    "card"
   ]
  },
  {
   "cell_type": "code",
   "execution_count": 15,
   "metadata": {},
   "outputs": [
    {
     "data": {
      "text/plain": [
       "1"
      ]
     },
     "execution_count": 15,
     "metadata": {},
     "output_type": "execute_result"
    }
   ],
   "source": [
    "card.selection"
   ]
  },
  {
   "cell_type": "code",
   "execution_count": 16,
   "metadata": {},
   "outputs": [],
   "source": [
    "card.selection = 3"
   ]
  },
  {
   "cell_type": "code",
   "execution_count": null,
   "metadata": {},
   "outputs": [],
   "source": []
  }
 ],
 "metadata": {
  "kernelspec": {
   "display_name": "Python 3 (ipykernel)",
   "language": "python",
   "name": "python3"
  },
  "language_info": {
   "codemirror_mode": {
    "name": "ipython",
    "version": 3
   },
   "file_extension": ".py",
   "mimetype": "text/x-python",
   "name": "python",
   "nbconvert_exporter": "python",
   "pygments_lexer": "ipython3",
   "version": "3.8.10"
  }
 },
 "nbformat": 4,
 "nbformat_minor": 4
}
