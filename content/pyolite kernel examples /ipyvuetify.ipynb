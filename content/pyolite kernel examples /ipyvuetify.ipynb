{
 "cells": [
  {
   "cell_type": "markdown",
   "metadata": {},
   "source": [
    "# Ipyvuetify demo\n",
    "See the [documentation](https://ipyvuetify.readthedocs.io/en/latest/index.html)"
   ]
  },
  {
   "cell_type": "code",
   "execution_count": null,
   "metadata": {},
   "outputs": [],
   "source": [
    "import micropip\n",
    "await micropip.install(['ipyvuetify'])\n"
   ]
  },
  {
   "cell_type": "code",
   "execution_count": 1,
   "metadata": {},
   "outputs": [],
   "source": [
    "\n",
    "import ipywidgets\n",
    "import ipyvuetify as v\n",
    "from threading import Timer\n",
    "\n",
    "lorum_ipsum = 'Lorem ipsum dolor sit amet, consectetur adipiscing elit, sed do eiusmod tempor incididunt ut labore et dolore magna aliqua. Ut enim ad minim veniam, quis nostrud exercitation ullamco laboris nisi ut aliquip ex ea commodo consequat. Duis aute irure dolor in reprehenderit in voluptate velit esse cillum dolore eu fugiat nulla pariatur. Excepteur sint occaecat cupidatat non proident, sunt in culpa qui officia deserunt mollit anim id est laborum.'\n"
   ]
  },
  {
   "cell_type": "code",
   "execution_count": 2,
   "metadata": {},
   "outputs": [
    {
     "data": {
      "application/vnd.jupyter.widget-view+json": {
       "model_id": "676f3e8a7b2041e7b2cb198fa0b74cbc",
       "version_major": 2,
       "version_minor": 0
      },
      "text/plain": [
       "Layout(children=[Btn(children=['button'])], class_='pa-2')"
      ]
     },
     "metadata": {},
     "output_type": "display_data"
    }
   ],
   "source": [
    "\n",
    "count = 0\n",
    "\n",
    "def on_click(widget, event, data):\n",
    "    global count\n",
    "    count += 1\n",
    "    button1.children=['button ' + str(count)]\n",
    "\n",
    "button1 = v.Btn(children=['button'])\n",
    "button1.on_event('click', on_click)\n",
    "\n",
    "v.Layout(class_='pa-2', children=[button1])"
   ]
  },
  {
   "cell_type": "markdown",
   "metadata": {},
   "source": [
    "## First template"
   ]
  },
  {
   "cell_type": "code",
   "execution_count": 5,
   "metadata": {},
   "outputs": [
    {
     "data": {
      "application/vnd.jupyter.widget-view+json": {
       "model_id": "94b6e9fe35c54296aa03a9d52219ee84",
       "version_major": 2,
       "version_minor": 0
      },
      "text/plain": [
       "FruitSelector(fruits=['Apple', 'Pear'], template='\\n        <template>\\n            <div>\\n                <v-…"
      ]
     },
     "metadata": {},
     "output_type": "display_data"
    }
   ],
   "source": [
    "import ipyvuetify as v\n",
    "import traitlets\n",
    "\n",
    "class FruitSelector(v.VuetifyTemplate):\n",
    "    fruits = traitlets.List(traitlets.Unicode(), default_value=['Apple', 'Pear']).tag(sync=True)\n",
    "    selected = traitlets.Unicode(default_value=None, allow_none=True).tag(sync=True)\n",
    "    @traitlets.default('template')\n",
    "    def _template(self):\n",
    "        return '''\n",
    "        <template>\n",
    "            <div>\n",
    "                <v-select label=\"Fruits\" :items=\"fruits\" v-model=\"selected\"/>\n",
    "            </div>\n",
    "        </template>\n",
    "        '''\n",
    "fruits = FruitSelector()\n",
    "fruits"
   ]
  },
  {
   "cell_type": "markdown",
   "metadata": {},
   "source": [
    "## Advanced template"
   ]
  },
  {
   "cell_type": "code",
   "execution_count": 4,
   "metadata": {},
   "outputs": [
    {
     "data": {
      "application/vnd.jupyter.widget-view+json": {
       "model_id": "265bd8c3fe9f4ed2bfedcbf296a2a6c6",
       "version_major": 2,
       "version_minor": 0
      },
      "text/plain": [
       "FruitSelector(fruits=['Banana', 'Pear', 'Apple'], template='\\n            <template>\\n                <div>\\n …"
      ]
     },
     "metadata": {},
     "output_type": "display_data"
    }
   ],
   "source": [
    "import ipyvuetify as v\n",
    "import traitlets\n",
    "\n",
    "\n",
    "class FruitSelector(v.VuetifyTemplate):\n",
    "    fruits = traitlets.List(traitlets.Unicode(), default_value=['Apple', 'Pear']).tag(sync=True)\n",
    "    selected = traitlets.Unicode(default_value=None, allow_none=True).tag(sync=True)\n",
    "    @traitlets.default('template')\n",
    "    def _template(self):\n",
    "        return '''\n",
    "            <template>\n",
    "                <div>\n",
    "                    <v-select label=\"Fruits\" :items=\"fruits\" v-model=\"selected\"/>\n",
    "                    Available fruits\n",
    "                    <table class=\"fruit-selector\">\n",
    "                        <tr v-for=\"(fruit, index) in fruits\" :key=\"index\" @click=\"selected = fruit\">\n",
    "                            <td>{{index}}</td>\n",
    "                            <td>{{fruit}}</td>\n",
    "                            <td>{{fruit == selected ? \"selected\" : \"\"}}</td>\n",
    "                        </tr>\n",
    "                    </table>\n",
    "                </div>\n",
    "            </template>\n",
    "            <style id=\"fruit-selector-style\">\n",
    "                .fruit-selector td {\n",
    "                    border: 1px solid black;\n",
    "                }\n",
    "\n",
    "            </style>\n",
    "\n",
    "        '''\n",
    "fruits = FruitSelector(fruits=['Banana', 'Pear', 'Apple'])\n",
    "fruits"
   ]
  },
  {
   "cell_type": "markdown",
   "metadata": {},
   "source": [
    "## Template in vue files"
   ]
  },
  {
   "cell_type": "code",
   "execution_count": 6,
   "metadata": {},
   "outputs": [
    {
     "data": {
      "application/vnd.jupyter.widget-view+json": {
       "model_id": "03edecd1ebf94476bc72482e5d4391f1",
       "version_major": 2,
       "version_minor": 0
      },
      "text/plain": [
       "FruitSelector(events=['add_fruit_python'], fruits=['Banana', 'Pear', 'Apple'], template=Template(template='<te…"
      ]
     },
     "metadata": {},
     "output_type": "display_data"
    }
   ],
   "source": [
    "import ipyvuetify as v\n",
    "import traitlets\n",
    "import random\n",
    "\n",
    "\n",
    "other_fruits = ['Pineapple', 'Kiwi', 'Cherry']\n",
    "\n",
    "\n",
    "class FruitSelector(v.VuetifyTemplate):\n",
    "    template_file = '../data/fruit-selector.vue'\n",
    "\n",
    "    fruits = traitlets.List(traitlets.Unicode(), default_value=['Apple', 'Pear']).tag(sync=True)\n",
    "    selected = traitlets.Unicode(default_value=None, allow_none=True).tag(sync=True)\n",
    "    can_add_from_python = traitlets.Bool(default_value=True).tag(sync=True)\n",
    "\n",
    "    def vue_add_fruit_python(self, data=None):\n",
    "        if other_fruits:\n",
    "            fruit = other_fruits.pop()\n",
    "            self.fruits = self.fruits + [fruit]\n",
    "        if not other_fruits:\n",
    "            self.can_add_from_python = False\n",
    "            \n",
    "fruits = FruitSelector(fruits=['Banana', 'Pear', 'Apple'])\n",
    "fruits"
   ]
  },
  {
   "cell_type": "code",
   "execution_count": null,
   "metadata": {},
   "outputs": [],
   "source": []
  }
 ],
 "metadata": {
  "kernelspec": {
   "display_name": "Python 3 (ipykernel)",
   "language": "python",
   "name": "python3"
  },
  "language_info": {
   "codemirror_mode": {
    "name": "ipython",
    "version": 3
   },
   "file_extension": ".py",
   "mimetype": "text/x-python",
   "name": "python",
   "nbconvert_exporter": "python",
   "pygments_lexer": "ipython3",
   "version": "3.8.10"
  }
 },
 "nbformat": 4,
 "nbformat_minor": 4
}
